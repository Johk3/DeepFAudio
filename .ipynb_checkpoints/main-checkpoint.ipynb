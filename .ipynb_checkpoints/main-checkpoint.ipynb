{
 "cells": [
  {
   "cell_type": "code",
   "execution_count": 7,
   "metadata": {},
   "outputs": [
    {
     "name": "stdout",
     "output_type": "stream",
     "text": [
      "\n",
      "\n",
      "\n",
      "\n",
      "\n",
      "[77, 8]\n",
      "[<tf.Tensor 'split:0' shape=(77, 1) dtype=float32>, <tf.Tensor 'split:1' shape=(77, 1) dtype=float32>, <tf.Tensor 'split:2' shape=(77, 1) dtype=float32>, <tf.Tensor 'split:3' shape=(77, 1) dtype=float32>, <tf.Tensor 'split:4' shape=(77, 1) dtype=float32>, <tf.Tensor 'split:5' shape=(77, 1) dtype=float32>, <tf.Tensor 'split:6' shape=(77, 1) dtype=float32>, <tf.Tensor 'split:7' shape=(77, 1) dtype=float32>]\n",
      "WOOF [77, 1]\n"
     ]
    },
    {
     "ename": "TypeError",
     "evalue": "'int' object is not subscriptable",
     "output_type": "error",
     "traceback": [
      "\u001b[0;31m---------------------------------------------------------------------------\u001b[0m",
      "\u001b[0;31mTypeError\u001b[0m                                 Traceback (most recent call last)",
      "\u001b[0;32m<ipython-input-7-b56d042bcf12>\u001b[0m in \u001b[0;36m<module>\u001b[0;34m\u001b[0m\n\u001b[1;32m     59\u001b[0m         \u001b[0mrandom_sequences\u001b[0m \u001b[0;34m=\u001b[0m \u001b[0mr\u001b[0m \u001b[0;34m+\u001b[0m \u001b[0md\u001b[0m\u001b[0;34m\u001b[0m\u001b[0;34m\u001b[0m\u001b[0m\n\u001b[1;32m     60\u001b[0m \u001b[0;34m\u001b[0m\u001b[0m\n\u001b[0;32m---> 61\u001b[0;31m         \u001b[0mprint\u001b[0m\u001b[0;34m(\u001b[0m\u001b[0mlen\u001b[0m\u001b[0;34m(\u001b[0m\u001b[0mrandom_sequences\u001b[0m\u001b[0;34m)\u001b[0m\u001b[0;34m[\u001b[0m\u001b[0;36m0\u001b[0m\u001b[0;34m]\u001b[0m\u001b[0;34m)\u001b[0m\u001b[0;34m\u001b[0m\u001b[0;34m\u001b[0m\u001b[0m\n\u001b[0m\u001b[1;32m     62\u001b[0m         \u001b[0;34m(\u001b[0m\u001b[0mloss_val\u001b[0m\u001b[0;34m,\u001b[0m \u001b[0m_\u001b[0m\u001b[0;34m)\u001b[0m \u001b[0;34m=\u001b[0m \u001b[0msess\u001b[0m\u001b[0;34m.\u001b[0m\u001b[0mrun\u001b[0m\u001b[0;34m(\u001b[0m\u001b[0;34m[\u001b[0m\u001b[0mae\u001b[0m\u001b[0;34m.\u001b[0m\u001b[0mloss\u001b[0m\u001b[0;34m,\u001b[0m \u001b[0mae\u001b[0m\u001b[0;34m.\u001b[0m\u001b[0mtrain\u001b[0m\u001b[0;34m]\u001b[0m\u001b[0;34m,\u001b[0m \u001b[0;34m{\u001b[0m\u001b[0mp_input\u001b[0m\u001b[0;34m:\u001b[0m \u001b[0mrandom_sequences\u001b[0m\u001b[0;34m}\u001b[0m\u001b[0;34m)\u001b[0m\u001b[0;34m\u001b[0m\u001b[0;34m\u001b[0m\u001b[0m\n\u001b[1;32m     63\u001b[0m         \u001b[0;32mif\u001b[0m \u001b[0mi\u001b[0m \u001b[0;34m%\u001b[0m \u001b[0;36m1000\u001b[0m \u001b[0;34m==\u001b[0m \u001b[0;36m0\u001b[0m\u001b[0;34m:\u001b[0m\u001b[0;34m\u001b[0m\u001b[0;34m\u001b[0m\u001b[0m\n",
      "\u001b[0;31mTypeError\u001b[0m: 'int' object is not subscriptable"
     ]
    }
   ],
   "source": [
    "# Basic libraries\n",
    "import numpy as np\n",
    "import tensorflow as tf\n",
    "import pandas as pd\n",
    "import pickle\n",
    "\n",
    "tf.reset_default_graph()\n",
    "tf.set_random_seed(2016)\n",
    "np.random.seed(2016)\n",
    "\n",
    "# LSTM-autoencoder\n",
    "from LSTMAutoencoder import *\n",
    "print(\"\\n\\n\\n\\n\")\n",
    "\n",
    "data = pickle.load(open(\"data/save.p\", \"rb\"))\n",
    "\n",
    "# Constants\n",
    "batch_num = 77\n",
    "hidden_num = 12\n",
    "step_num = 8\n",
    "elem_num = 1\n",
    "iteration = 10000\n",
    "\n",
    "#data = data[len(data)%step_num:]\n",
    "data = tf.convert_to_tensor(data, dtype=tf.float32)\n",
    "print(data.get_shape().as_list())\n",
    "# placeholder list\n",
    "p_input = data\n",
    "\n",
    "# p_inputs = [tf.squeeze(t, [1]) for t in tf.split(p_input, step_num, 1)]\n",
    "p_inputs = []\n",
    "for t in tf.split(p_input, step_num, 1):\n",
    "    # Ignoring squeezing since it removes the necessary shape (77, ?)\n",
    "    p_inputs.append(t)\n",
    "print(p_inputs)\n",
    "\n",
    "cell = tf.nn.rnn_cell.LSTMCell(hidden_num, use_peepholes=True)\n",
    "try:\n",
    "    ae = LSTMAutoencoder(hidden_num, p_inputs, cell=cell, decode_without_input=True)\n",
    "except Exception as e:\n",
    "    print(\"WARNING \", e)\n",
    "\n",
    "saver = tf.train.Saver()\n",
    "\n",
    "with tf.Session() as sess:\n",
    "    sess.run(tf.global_variables_initializer())\n",
    "\n",
    "    for i in range(iteration):\n",
    "        \"\"\"Random sequences.\n",
    "          Every sequence has size batch_num * step_num * elem_num \n",
    "          Each step number increases 1 by 1.\n",
    "          An initial number of each sequence is in the range from 0 to 19.\n",
    "          (ex. [8. 9. 10. 11. 12. 13. 14. 15])\n",
    "        \"\"\"\n",
    "        r = np.random.randint(20, size=batch_num).reshape([batch_num, 1, 1])\n",
    "        r = np.tile(r, (1, step_num, elem_num))\n",
    "        d = np.linspace(0, step_num, step_num, endpoint=False).reshape([1, step_num, elem_num])\n",
    "        d = np.tile(d, (batch_num, 1, 1))\n",
    "        random_sequences = r + d\n",
    "        \n",
    "        print(len(random_sequences[0]))\n",
    "        (loss_val, _) = sess.run([ae.loss, ae.train], {p_input: random_sequences})\n",
    "        if i % 1000 == 0:\n",
    "            print(len(d[0]))\n",
    "            print(\"---\")\n",
    "            print(len(r[0]))\n",
    "            print('iter %d:' % (i), loss_val)\n",
    "        if i % 10000 == 0:\n",
    "            save_path = saver.save(sess, \"/tmp/model.ckpt\")\n",
    "            print(\"Model saved in path: {}\".format(save_path))\n",
    "            \n",
    "\n",
    "    (input_, output_) = sess.run([ae.input_, ae.output_], {p_input: r + d})\n",
    "    print('train result :')\n",
    "    print('input :', input_[0, :, :].flatten())\n",
    "    print('output :', output_[0, :, :].flatten())\n"
   ]
  }
 ],
 "metadata": {
  "kernelspec": {
   "display_name": "Python 3",
   "language": "python",
   "name": "python3"
  },
  "language_info": {
   "codemirror_mode": {
    "name": "ipython",
    "version": 3
   },
   "file_extension": ".py",
   "mimetype": "text/x-python",
   "name": "python",
   "nbconvert_exporter": "python",
   "pygments_lexer": "ipython3",
   "version": "3.7.1"
  }
 },
 "nbformat": 4,
 "nbformat_minor": 2
}
