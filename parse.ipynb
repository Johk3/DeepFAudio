{
 "cells": [
  {
   "cell_type": "code",
   "execution_count": 92,
   "metadata": {},
   "outputs": [],
   "source": [
    "import csv\n",
    "import pickle"
   ]
  },
  {
   "cell_type": "code",
   "execution_count": 93,
   "metadata": {},
   "outputs": [],
   "source": [
    "csv_data = []\n",
    "csv_pointers = dict()"
   ]
  },
  {
   "cell_type": "code",
   "execution_count": 94,
   "metadata": {},
   "outputs": [
    {
     "name": "stdout",
     "output_type": "stream",
     "text": [
      "Processed 78 lines.\n"
     ]
    }
   ],
   "source": [
    "with open(\"data/Ad.csv\", \"r\") as file:\n",
    "    csv_reader = csv.reader(file, delimiter=\",\")\n",
    "    next(csv_reader)\n",
    "    next(csv_reader)\n",
    "    line_count = 0\n",
    "    for row in csv_reader:\n",
    "        csv_data.append(row)\n",
    "        line_count += 1\n",
    "    print(f'Processed {line_count} lines.')"
   ]
  },
  {
   "cell_type": "code",
   "execution_count": 95,
   "metadata": {},
   "outputs": [],
   "source": [
    "i = 0\n",
    "for data in csv_data[0]:\n",
    "    csv_pointers[data] = i\n",
    "    i += 1"
   ]
  },
  {
   "cell_type": "code",
   "execution_count": 97,
   "metadata": {},
   "outputs": [
    {
     "name": "stdout",
     "output_type": "stream",
     "text": [
      "[60.0, 365.0, 0.92, 54.91, 1.0]\n",
      "[84.0, 2608.0, 0.74, 62.27, 1.0]\n",
      "[220.0, 1095.0, 1.04, 228.26, 3.0]\n",
      "[83.0, 732.0, 0.76, 62.94, 0.0]\n",
      "[48.0, 888.0, 4.14, 198.7, 1.0]\n",
      "[723.0, 31399.0, 0.61, 442.91, 5.0]\n",
      "[0.0, 0.0, 0.0, 0.0, 0.0]\n",
      "[597.0, 2369.0, 1.19, 707.61, 4.0]\n",
      "[3.0, 138.0, 3.92, 11.76, 0.0]\n",
      "[18.0, 161.0, 3.69, 66.49, 0.0]\n",
      "[1105.0, 5283.0, 0.95, 1048.87, 3.0]\n",
      "[35.0, 1151.0, 4.53, 158.52, 2.0]\n",
      "[2775.0, 362286.0, 0.29, 805.33, 4.0]\n",
      "[294.0, 4999.0, 1.33, 391.59, 1.0]\n",
      "[0.0, 160.0, 0.0, 0.0, 0.0]\n",
      "[0.0, 0.0, 0.0, 0.0, 0.0]\n",
      "[111.0, 11513.0, 2.07, 229.27, 0.0]\n",
      "[2100.0, 564666.0, 0.57, 1190.5, 3.0]\n",
      "[11.0, 454.0, 1.1, 12.14, 0.0]\n",
      "[134.0, 942.0, 1.31, 174.96, 0.0]\n",
      "[0.0, 0.0, 0.0, 0.0, 0.0]\n",
      "[388.0, 6184.0, 1.39, 541.11, 0.0]\n",
      "[97.0, 4402.0, 1.4, 135.8, 0.0]\n",
      "[81.0, 332.0, 0.81, 65.24, 0.0]\n",
      "[0.0, 1.0, 0.0, 0.0, 0.0]\n",
      "[0.0, 0.0, 0.0, 0.0, 0.0]\n",
      "[38.0, 1188.0, 0.81, 30.66, 0.0]\n",
      "[153.0, 1524.0, 1.11, 169.96, 1.0]\n",
      "[137.0, 21035.0, 1.2, 164.36, 0.0]\n",
      "[0.0, 234.0, 0.0, 0.0, 0.0]\n",
      "[22.0, 1186.0, 1.35, 29.72, 0.0]\n",
      "[13.0, 233.0, 5.31, 68.97, 0.0]\n",
      "[7.0, 163.0, 3.67, 25.72, 0.0]\n",
      "[18.0, 831.0, 5.33, 96.01, 0.0]\n",
      "[0.0, 0.0, 0.0, 0.0, 0.0]\n",
      "[31.0, 396.0, 1.09, 33.77, 0.0]\n",
      "[0.0, 0.0, 0.0, 0.0, 0.0]\n",
      "[0.0, 40.0, 0.0, 0.0, 0.0]\n",
      "[9.0, 2672.0, 1.44, 12.99, 0.0]\n",
      "[14.0, 3607.0, 0.94, 13.16, 0.0]\n",
      "[0.0, 2.0, 0.0, 0.0, 0.0]\n",
      "[180.0, 8000.0, 0.94, 168.44, 3.0]\n",
      "[1.0, 216.0, 1.3, 1.3, 0.0]\n",
      "[4.0, 345.0, 0.87, 3.49, 0.0]\n",
      "[0.0, 52.0, 0.0, 0.0, 0.0]\n",
      "[0.0, 0.0, 0.0, 0.0, 0.0]\n",
      "[92.0, 3072.0, 3.31, 304.16, 1.0]\n",
      "[71.0, 2393.0, 0.62, 43.98, 0.0]\n",
      "[0.0, 0.0, 0.0, 0.0, 0.0]\n",
      "[0.0, 0.0, 0.0, 0.0, 0.0]\n",
      "[257.0, 13083.0, 1.89, 485.98, 0.0]\n",
      "[0.0, 0.0, 0.0, 0.0, 0.0]\n",
      "[16.0, 1097.0, 1.36, 21.73, 0.0]\n",
      "[234.0, 15208.0, 0.4, 94.01, 3.0]\n",
      "[764.0, 177055.0, 0.64, 491.89, 4.0]\n",
      "[0.0, 0.0, 0.0, 0.0, 0.0]\n",
      "[27.0, 784.0, 5.38, 145.39, 0.0]\n",
      "[15.0, 577.0, 1.8, 26.93, 0.0]\n",
      "[243.0, 31637.0, 1.29, 312.65, 0.0]\n",
      "[3.0, 2671.0, 1.12, 3.35, 0.0]\n",
      "[1.0, 103.0, 1.62, 1.62, 0.0]\n",
      "[2.0, 107.0, 0.82, 1.64, 0.0]\n",
      "[20.0, 484.0, 5.06, 101.2, 0.0]\n",
      "[0.0, 0.0, 0.0, 0.0, 0.0]\n",
      "[3.0, 230.0, 0.68, 2.04, 0.0]\n",
      "[12.0, 89.0, 0.52, 6.24, 0.0]\n",
      "[7.0, 77.0, 0.56, 3.92, 0.0]\n",
      "[21.0, 1489.0, 0.79, 16.68, 0.0]\n",
      "[0.0, 0.0, 0.0, 0.0, 0.0]\n",
      "[9.0, 1434.0, 1.36, 12.21, 0.0]\n",
      "[7.0, 308.0, 1.37, 9.57, 0.0]\n",
      "[0.0, 0.0, 0.0, 0.0, 0.0]\n",
      "[5.0, 696.0, 0.78, 3.9, 0.0]\n",
      "[0.0, 0.0, 0.0, 0.0, 0.0]\n",
      "[38.0, 13552.0, 0.8, 30.36, 0.0]\n",
      "[8.0, 92.0, 1.12, 8.98, 0.0]\n",
      "[9.0, 899.0, 1.55, 13.94, 0.0]\n"
     ]
    }
   ],
   "source": [
    "# This is to skip the first row\n",
    "forlearning = []\n",
    "i = 0\n",
    "for data in csv_data:\n",
    "    if i == 0:\n",
    "        i = 1\n",
    "        continue\n",
    "    data = [float(data[csv_pointers[\"Clicks\"]].replace(\",\", \"\")), float(data[csv_pointers[\"Impressions\"]].replace(\",\", \"\")), float(data[csv_pointers[\"Avg. CPC\"]].replace(\",\", \"\")), float(data[csv_pointers[\"Cost\"]].replace(\",\", \"\")), float(data[csv_pointers[\"Conversions\"]].replace(\",\", \"\"))]\n",
    "    print(data)\n",
    "    forlearning.append(data)"
   ]
  },
  {
   "cell_type": "code",
   "execution_count": 100,
   "metadata": {},
   "outputs": [
    {
     "ename": "TypeError",
     "evalue": "file must have a 'write' attribute",
     "output_type": "error",
     "traceback": [
      "\u001b[0;31m---------------------------------------------------------------------------\u001b[0m",
      "\u001b[0;31mTypeError\u001b[0m                                 Traceback (most recent call last)",
      "\u001b[0;32m<ipython-input-100-81ccb4856f22>\u001b[0m in \u001b[0;36m<module>\u001b[0;34m\u001b[0m\n\u001b[0;32m----> 1\u001b[0;31m \u001b[0mpickle\u001b[0m\u001b[0;34m.\u001b[0m\u001b[0mdump\u001b[0m\u001b[0;34m(\u001b[0m\u001b[0mopen\u001b[0m\u001b[0;34m(\u001b[0m\u001b[0;34m\"data/save.p\"\u001b[0m\u001b[0;34m,\u001b[0m \u001b[0;34m\"wb\"\u001b[0m\u001b[0;34m)\u001b[0m\u001b[0;34m,\u001b[0m \u001b[0mforlearning\u001b[0m\u001b[0;34m)\u001b[0m\u001b[0;34m\u001b[0m\u001b[0;34m\u001b[0m\u001b[0m\n\u001b[0m",
      "\u001b[0;31mTypeError\u001b[0m: file must have a 'write' attribute"
     ]
    }
   ],
   "source": [
    "pickle.dump(open(\"data/save.p\", \"wb\"), forlearning)"
   ]
  }
 ],
 "metadata": {
  "kernelspec": {
   "display_name": "Python 3",
   "language": "python",
   "name": "python3"
  },
  "language_info": {
   "codemirror_mode": {
    "name": "ipython",
    "version": 3
   },
   "file_extension": ".py",
   "mimetype": "text/x-python",
   "name": "python",
   "nbconvert_exporter": "python",
   "pygments_lexer": "ipython3",
   "version": "3.7.1"
  }
 },
 "nbformat": 4,
 "nbformat_minor": 2
}
